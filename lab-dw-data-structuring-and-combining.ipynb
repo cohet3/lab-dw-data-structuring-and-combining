{
 "cells": [
  {
   "cell_type": "markdown",
   "id": "25d7736c-ba17-4aff-b6bb-66eba20fbf4e",
   "metadata": {
    "id": "25d7736c-ba17-4aff-b6bb-66eba20fbf4e"
   },
   "source": [
    "# Lab | Data Structuring and Combining Data"
   ]
  },
  {
   "cell_type": "markdown",
   "id": "a2cdfc70-44c8-478c-81e7-2bc43fdf4986",
   "metadata": {
    "id": "a2cdfc70-44c8-478c-81e7-2bc43fdf4986"
   },
   "source": [
    "## Challenge 1: Combining & Cleaning Data\n",
    "\n",
    "In this challenge, we will be working with the customer data from an insurance company, as we did in the two previous labs. The data can be found here:\n",
    "- https://raw.githubusercontent.com/data-bootcamp-v4/data/main/file1.csv\n",
    "\n",
    "But this time, we got new data, which can be found in the following 2 CSV files located at the links below.\n",
    "\n",
    "- https://raw.githubusercontent.com/data-bootcamp-v4/data/main/file2.csv\n",
    "- https://raw.githubusercontent.com/data-bootcamp-v4/data/main/file3.csv\n",
    "\n",
    "Note that you'll need to clean and format the new data.\n",
    "\n",
    "Observation:\n",
    "- One option is to first combine the three datasets and then apply the cleaning function to the new combined dataset\n",
    "- Another option would be to read the clean file you saved in the previous lab, and just clean the two new files and concatenate the three clean datasets"
   ]
  },
  {
   "cell_type": "code",
   "execution_count": 1,
   "id": "492d06e3-92c7-4105-ac72-536db98d3244",
   "metadata": {
    "id": "492d06e3-92c7-4105-ac72-536db98d3244"
   },
   "outputs": [],
   "source": [
    "# Your code goes here\n",
    "# Step 1: Load the datasets\n",
    "import pandas as pd\n",
    "url1 = 'https://raw.githubusercontent.com/data-bootcamp-v4/data/main/file1.csv'\n",
    "url2 = 'https://raw.githubusercontent.com/data-bootcamp-v4/data/main/file2.csv'\n",
    "url3 = 'https://raw.githubusercontent.com/data-bootcamp-v4/data/main/file3.csv'\n",
    "df1 = pd.read_csv(url1)\n",
    "df2 = pd.read_csv(url2)\n",
    "df3 = pd.read_csv(url3)"
   ]
  },
  {
   "cell_type": "code",
   "execution_count": 2,
   "id": "27799b12",
   "metadata": {},
   "outputs": [
    {
     "name": "stdout",
     "output_type": "stream",
     "text": [
      "<class 'pandas.core.frame.DataFrame'>\n",
      "RangeIndex: 4008 entries, 0 to 4007\n",
      "Data columns (total 11 columns):\n",
      " #   Column                     Non-Null Count  Dtype  \n",
      "---  ------                     --------------  -----  \n",
      " 0   Customer                   1071 non-null   object \n",
      " 1   ST                         1071 non-null   object \n",
      " 2   GENDER                     954 non-null    object \n",
      " 3   Education                  1071 non-null   object \n",
      " 4   Customer Lifetime Value    1068 non-null   object \n",
      " 5   Income                     1071 non-null   float64\n",
      " 6   Monthly Premium Auto       1071 non-null   float64\n",
      " 7   Number of Open Complaints  1071 non-null   object \n",
      " 8   Policy Type                1071 non-null   object \n",
      " 9   Vehicle Class              1071 non-null   object \n",
      " 10  Total Claim Amount         1071 non-null   float64\n",
      "dtypes: float64(3), object(8)\n",
      "memory usage: 344.6+ KB\n",
      "None\n",
      "<class 'pandas.core.frame.DataFrame'>\n",
      "RangeIndex: 996 entries, 0 to 995\n",
      "Data columns (total 11 columns):\n",
      " #   Column                     Non-Null Count  Dtype  \n",
      "---  ------                     --------------  -----  \n",
      " 0   Customer                   996 non-null    object \n",
      " 1   ST                         996 non-null    object \n",
      " 2   GENDER                     991 non-null    object \n",
      " 3   Education                  996 non-null    object \n",
      " 4   Customer Lifetime Value    992 non-null    object \n",
      " 5   Income                     996 non-null    int64  \n",
      " 6   Monthly Premium Auto       996 non-null    int64  \n",
      " 7   Number of Open Complaints  996 non-null    object \n",
      " 8   Total Claim Amount         996 non-null    float64\n",
      " 9   Policy Type                996 non-null    object \n",
      " 10  Vehicle Class              996 non-null    object \n",
      "dtypes: float64(1), int64(2), object(8)\n",
      "memory usage: 85.7+ KB\n",
      "None\n",
      "<class 'pandas.core.frame.DataFrame'>\n",
      "RangeIndex: 7070 entries, 0 to 7069\n",
      "Data columns (total 11 columns):\n",
      " #   Column                     Non-Null Count  Dtype  \n",
      "---  ------                     --------------  -----  \n",
      " 0   Customer                   7070 non-null   object \n",
      " 1   State                      7070 non-null   object \n",
      " 2   Customer Lifetime Value    7070 non-null   float64\n",
      " 3   Education                  7070 non-null   object \n",
      " 4   Gender                     7070 non-null   object \n",
      " 5   Income                     7070 non-null   int64  \n",
      " 6   Monthly Premium Auto       7070 non-null   int64  \n",
      " 7   Number of Open Complaints  7070 non-null   int64  \n",
      " 8   Policy Type                7070 non-null   object \n",
      " 9   Total Claim Amount         7070 non-null   float64\n",
      " 10  Vehicle Class              7070 non-null   object \n",
      "dtypes: float64(2), int64(3), object(6)\n",
      "memory usage: 607.7+ KB\n",
      "None\n"
     ]
    }
   ],
   "source": [
    "# Step 2: Explore the datasets\n",
    "print(df1.info())\n",
    "print(df2.info())\n",
    "print(df3.info())"
   ]
  },
  {
   "cell_type": "code",
   "execution_count": 5,
   "id": "3cad0b4f",
   "metadata": {},
   "outputs": [],
   "source": [
    "# Step 3: Clean the datasets\n",
    "def clean_data(df):\n",
    "    # Example cleaning steps\n",
    "    df.columns = df.columns.str.lower().str.replace(' ', '_')  # Standardize column names\n",
    "    df = df.drop_duplicates()  # Remove duplicate rows\n",
    "    df = df.dropna()  # Drop rows with missing values\n",
    "    return df\n",
    "\n",
    "df1_clean = clean_data(df1)\n",
    "df2_clean = clean_data(df2)\n",
    "df3_clean = clean_data(df3)"
   ]
  },
  {
   "cell_type": "code",
   "execution_count": 6,
   "id": "6062f3bf",
   "metadata": {},
   "outputs": [],
   "source": [
    "# Step 4: Combine the datasets\n",
    "combined_df = pd.concat([df1_clean, df2_clean, df3_clean])"
   ]
  },
  {
   "cell_type": "code",
   "execution_count": 10,
   "id": "da96b3a5",
   "metadata": {},
   "outputs": [],
   "source": [
    "# Step 5: Final clean-up\n",
    "def unify_state_column(df):\n",
    "    if 'st' in df.columns and 'state' in df.columns:\n",
    "        # Priorizar la columna 'state', pero rellenar con 'st' donde 'state' esté vacío\n",
    "        df['state'] = df['state'].fillna(df['st'])\n",
    "    elif 'st' in df.columns:\n",
    "        # Si solo existe 'st', renombrarla a 'state'\n",
    "        df.rename(columns={'st': 'state'}, inplace=True)\n",
    "    # Eliminar la columna 'st' si aún existe\n",
    "    if 'st' in df.columns:\n",
    "        df.drop(columns=['st'], inplace=True)\n",
    "    return df\n",
    "\n",
    "# Aplicar la función al DataFrame combinado\n",
    "combined_df = unify_state_column(combined_df)\n",
    "\n",
    "# Guardar los datos limpios y combinados\n",
    "combined_df.to_csv('combined_cleaned_data.csv', index=False)\n"
   ]
  },
  {
   "cell_type": "code",
   "execution_count": 11,
   "id": "2f90bfb5",
   "metadata": {},
   "outputs": [],
   "source": [
    "\n",
    "# Step 6: Save the cleaned data\n",
    "combined_df.to_csv('combined_cleaned_data.csv', index=False)"
   ]
  },
  {
   "cell_type": "code",
   "execution_count": 12,
   "id": "1520130a",
   "metadata": {},
   "outputs": [
    {
     "data": {
      "text/html": [
       "<div>\n",
       "<style scoped>\n",
       "    .dataframe tbody tr th:only-of-type {\n",
       "        vertical-align: middle;\n",
       "    }\n",
       "\n",
       "    .dataframe tbody tr th {\n",
       "        vertical-align: top;\n",
       "    }\n",
       "\n",
       "    .dataframe thead th {\n",
       "        text-align: right;\n",
       "    }\n",
       "</style>\n",
       "<table border=\"1\" class=\"dataframe\">\n",
       "  <thead>\n",
       "    <tr style=\"text-align: right;\">\n",
       "      <th></th>\n",
       "      <th>customer</th>\n",
       "      <th>gender</th>\n",
       "      <th>education</th>\n",
       "      <th>customer_lifetime_value</th>\n",
       "      <th>income</th>\n",
       "      <th>monthly_premium_auto</th>\n",
       "      <th>number_of_open_complaints</th>\n",
       "      <th>policy_type</th>\n",
       "      <th>vehicle_class</th>\n",
       "      <th>total_claim_amount</th>\n",
       "      <th>state</th>\n",
       "    </tr>\n",
       "  </thead>\n",
       "  <tbody>\n",
       "    <tr>\n",
       "      <th>1</th>\n",
       "      <td>QZ44356</td>\n",
       "      <td>F</td>\n",
       "      <td>Bachelor</td>\n",
       "      <td>697953.59%</td>\n",
       "      <td>0.0</td>\n",
       "      <td>94.0</td>\n",
       "      <td>1/0/00</td>\n",
       "      <td>Personal Auto</td>\n",
       "      <td>Four-Door Car</td>\n",
       "      <td>1131.464935</td>\n",
       "      <td>Arizona</td>\n",
       "    </tr>\n",
       "    <tr>\n",
       "      <th>2</th>\n",
       "      <td>AI49188</td>\n",
       "      <td>F</td>\n",
       "      <td>Bachelor</td>\n",
       "      <td>1288743.17%</td>\n",
       "      <td>48767.0</td>\n",
       "      <td>108.0</td>\n",
       "      <td>1/0/00</td>\n",
       "      <td>Personal Auto</td>\n",
       "      <td>Two-Door Car</td>\n",
       "      <td>566.472247</td>\n",
       "      <td>Nevada</td>\n",
       "    </tr>\n",
       "    <tr>\n",
       "      <th>3</th>\n",
       "      <td>WW63253</td>\n",
       "      <td>M</td>\n",
       "      <td>Bachelor</td>\n",
       "      <td>764586.18%</td>\n",
       "      <td>0.0</td>\n",
       "      <td>106.0</td>\n",
       "      <td>1/0/00</td>\n",
       "      <td>Corporate Auto</td>\n",
       "      <td>SUV</td>\n",
       "      <td>529.881344</td>\n",
       "      <td>California</td>\n",
       "    </tr>\n",
       "    <tr>\n",
       "      <th>4</th>\n",
       "      <td>GA49547</td>\n",
       "      <td>M</td>\n",
       "      <td>High School or Below</td>\n",
       "      <td>536307.65%</td>\n",
       "      <td>36357.0</td>\n",
       "      <td>68.0</td>\n",
       "      <td>1/0/00</td>\n",
       "      <td>Personal Auto</td>\n",
       "      <td>Four-Door Car</td>\n",
       "      <td>17.269323</td>\n",
       "      <td>Washington</td>\n",
       "    </tr>\n",
       "    <tr>\n",
       "      <th>5</th>\n",
       "      <td>OC83172</td>\n",
       "      <td>F</td>\n",
       "      <td>Bachelor</td>\n",
       "      <td>825629.78%</td>\n",
       "      <td>62902.0</td>\n",
       "      <td>69.0</td>\n",
       "      <td>1/0/00</td>\n",
       "      <td>Personal Auto</td>\n",
       "      <td>Two-Door Car</td>\n",
       "      <td>159.383042</td>\n",
       "      <td>Oregon</td>\n",
       "    </tr>\n",
       "  </tbody>\n",
       "</table>\n",
       "</div>"
      ],
      "text/plain": [
       "  customer gender             education customer_lifetime_value   income  \\\n",
       "1  QZ44356      F              Bachelor              697953.59%      0.0   \n",
       "2  AI49188      F              Bachelor             1288743.17%  48767.0   \n",
       "3  WW63253      M              Bachelor              764586.18%      0.0   \n",
       "4  GA49547      M  High School or Below              536307.65%  36357.0   \n",
       "5  OC83172      F              Bachelor              825629.78%  62902.0   \n",
       "\n",
       "   monthly_premium_auto number_of_open_complaints     policy_type  \\\n",
       "1                  94.0                    1/0/00   Personal Auto   \n",
       "2                 108.0                    1/0/00   Personal Auto   \n",
       "3                 106.0                    1/0/00  Corporate Auto   \n",
       "4                  68.0                    1/0/00   Personal Auto   \n",
       "5                  69.0                    1/0/00   Personal Auto   \n",
       "\n",
       "   vehicle_class  total_claim_amount       state  \n",
       "1  Four-Door Car         1131.464935     Arizona  \n",
       "2   Two-Door Car          566.472247      Nevada  \n",
       "3            SUV          529.881344  California  \n",
       "4  Four-Door Car           17.269323  Washington  \n",
       "5   Two-Door Car          159.383042      Oregon  "
      ]
     },
     "execution_count": 12,
     "metadata": {},
     "output_type": "execute_result"
    }
   ],
   "source": [
    "combined_df.head()"
   ]
  },
  {
   "cell_type": "markdown",
   "id": "31b8a9e7-7db9-4604-991b-ef6771603e57",
   "metadata": {
    "id": "31b8a9e7-7db9-4604-991b-ef6771603e57"
   },
   "source": [
    "# Challenge 2: Structuring Data"
   ]
  },
  {
   "cell_type": "markdown",
   "id": "a877fd6d-7a0c-46d2-9657-f25036e4ca4b",
   "metadata": {
    "id": "a877fd6d-7a0c-46d2-9657-f25036e4ca4b"
   },
   "source": [
    "In this challenge, we will continue to work with customer data from an insurance company, but we will use a dataset with more columns, called marketing_customer_analysis.csv, which can be found at the following link:\n",
    "\n",
    "https://raw.githubusercontent.com/data-bootcamp-v4/data/main/marketing_customer_analysis_clean.csv\n",
    "\n",
    "This dataset contains information such as customer demographics, policy details, vehicle information, and the customer's response to the last marketing campaign. Our goal is to explore and analyze this data by performing data cleaning, formatting, and structuring."
   ]
  },
  {
   "cell_type": "code",
   "execution_count": 14,
   "id": "aa10d9b0-1c27-4d3f-a8e4-db6ab73bfd26",
   "metadata": {
    "id": "aa10d9b0-1c27-4d3f-a8e4-db6ab73bfd26"
   },
   "outputs": [],
   "source": [
    "# Your code goes here\n",
    "url = 'https://raw.githubusercontent.com/data-bootcamp-v4/data/main/marketing_customer_analysis_clean.csv'\n",
    "customer_df_analitic = pd.read_csv(url)"
   ]
  },
  {
   "cell_type": "code",
   "execution_count": 15,
   "id": "cc419bec",
   "metadata": {},
   "outputs": [
    {
     "name": "stdout",
     "output_type": "stream",
     "text": [
      "<class 'pandas.core.frame.DataFrame'>\n",
      "RangeIndex: 10910 entries, 0 to 10909\n",
      "Data columns (total 27 columns):\n",
      " #   Column                         Non-Null Count  Dtype  \n",
      "---  ------                         --------------  -----  \n",
      " 0   unnamed:_0                     10910 non-null  int64  \n",
      " 1   customer                       10910 non-null  object \n",
      " 2   state                          10910 non-null  object \n",
      " 3   customer_lifetime_value        10910 non-null  float64\n",
      " 4   response                       10910 non-null  object \n",
      " 5   coverage                       10910 non-null  object \n",
      " 6   education                      10910 non-null  object \n",
      " 7   effective_to_date              10910 non-null  object \n",
      " 8   employmentstatus               10910 non-null  object \n",
      " 9   gender                         10910 non-null  object \n",
      " 10  income                         10910 non-null  int64  \n",
      " 11  location_code                  10910 non-null  object \n",
      " 12  marital_status                 10910 non-null  object \n",
      " 13  monthly_premium_auto           10910 non-null  int64  \n",
      " 14  months_since_last_claim        10910 non-null  float64\n",
      " 15  months_since_policy_inception  10910 non-null  int64  \n",
      " 16  number_of_open_complaints      10910 non-null  float64\n",
      " 17  number_of_policies             10910 non-null  int64  \n",
      " 18  policy_type                    10910 non-null  object \n",
      " 19  policy                         10910 non-null  object \n",
      " 20  renew_offer_type               10910 non-null  object \n",
      " 21  sales_channel                  10910 non-null  object \n",
      " 22  total_claim_amount             10910 non-null  float64\n",
      " 23  vehicle_class                  10910 non-null  object \n",
      " 24  vehicle_size                   10910 non-null  object \n",
      " 25  vehicle_type                   10910 non-null  object \n",
      " 26  month                          10910 non-null  int64  \n",
      "dtypes: float64(4), int64(6), object(17)\n",
      "memory usage: 2.2+ MB\n",
      "None\n",
      "         unnamed:_0  customer_lifetime_value        income  \\\n",
      "count  10910.000000             10910.000000  10910.000000   \n",
      "mean    5454.500000              8018.241094  37536.284785   \n",
      "std     3149.590053              6885.081434  30359.195670   \n",
      "min        0.000000              1898.007675      0.000000   \n",
      "25%     2727.250000              4014.453113      0.000000   \n",
      "50%     5454.500000              5771.147235  33813.500000   \n",
      "75%     8181.750000              8992.779137  62250.750000   \n",
      "max    10909.000000             83325.381190  99981.000000   \n",
      "\n",
      "       monthly_premium_auto  months_since_last_claim  \\\n",
      "count          10910.000000             10910.000000   \n",
      "mean              93.196059                15.149071   \n",
      "std               34.442532                 9.783520   \n",
      "min               61.000000                 0.000000   \n",
      "25%               68.000000                 7.000000   \n",
      "50%               83.000000                15.000000   \n",
      "75%              109.000000                23.000000   \n",
      "max              298.000000                35.000000   \n",
      "\n",
      "       months_since_policy_inception  number_of_open_complaints  \\\n",
      "count                   10910.000000               10910.000000   \n",
      "mean                       48.091934                   0.384256   \n",
      "std                        27.940675                   0.885589   \n",
      "min                         0.000000                   0.000000   \n",
      "25%                        24.000000                   0.000000   \n",
      "50%                        48.000000                   0.000000   \n",
      "75%                        71.000000                   0.384256   \n",
      "max                        99.000000                   5.000000   \n",
      "\n",
      "       number_of_policies  total_claim_amount         month  \n",
      "count        10910.000000        10910.000000  10910.000000  \n",
      "mean             2.979193          434.888330      1.466728  \n",
      "std              2.399359          292.180556      0.498915  \n",
      "min              1.000000            0.099007      1.000000  \n",
      "25%              1.000000          271.082527      1.000000  \n",
      "50%              2.000000          382.564630      1.000000  \n",
      "75%              4.000000          547.200000      2.000000  \n",
      "max              9.000000         2893.239678      2.000000  \n",
      "   unnamed:_0 customer       state  customer_lifetime_value response  \\\n",
      "0           0  DK49336     Arizona              4809.216960       No   \n",
      "1           1  KX64629  California              2228.525238       No   \n",
      "2           2  LZ68649  Washington             14947.917300       No   \n",
      "3           3  XL78013      Oregon             22332.439460      Yes   \n",
      "4           4  QA50777      Oregon              9025.067525       No   \n",
      "\n",
      "   coverage education effective_to_date employmentstatus gender  ...  \\\n",
      "0     Basic   College        2011-02-18         Employed      M  ...   \n",
      "1     Basic   College        2011-01-18       Unemployed      F  ...   \n",
      "2     Basic  Bachelor        2011-02-10         Employed      M  ...   \n",
      "3  Extended   College        2011-01-11         Employed      M  ...   \n",
      "4   Premium  Bachelor        2011-01-17    Medical Leave      F  ...   \n",
      "\n",
      "   number_of_policies     policy_type        policy  renew_offer_type  \\\n",
      "0                   9  Corporate Auto  Corporate L3            Offer3   \n",
      "1                   1   Personal Auto   Personal L3            Offer4   \n",
      "2                   2   Personal Auto   Personal L3            Offer3   \n",
      "3                   2  Corporate Auto  Corporate L3            Offer2   \n",
      "4                   7   Personal Auto   Personal L2            Offer1   \n",
      "\n",
      "   sales_channel  total_claim_amount  vehicle_class  vehicle_size  \\\n",
      "0          Agent          292.800000  Four-Door Car       Medsize   \n",
      "1    Call Center          744.924331  Four-Door Car       Medsize   \n",
      "2    Call Center          480.000000            SUV       Medsize   \n",
      "3         Branch          484.013411  Four-Door Car       Medsize   \n",
      "4         Branch          707.925645  Four-Door Car       Medsize   \n",
      "\n",
      "  vehicle_type month  \n",
      "0            A     2  \n",
      "1            A     1  \n",
      "2            A     2  \n",
      "3            A     1  \n",
      "4            A     1  \n",
      "\n",
      "[5 rows x 27 columns]\n"
     ]
    }
   ],
   "source": [
    "# Step 2: Explore the dataset\n",
    "print(customer_df_analitic.info())       # Get an overview of the dataset\n",
    "print(customer_df_analitic.describe())   # Summary statistics\n",
    "print(customer_df_analitic.head())       # First few rows"
   ]
  },
  {
   "cell_type": "code",
   "execution_count": 16,
   "id": "cdcd8fbb",
   "metadata": {},
   "outputs": [],
   "source": [
    "# Step 3: Data Cleaning\n",
    "# 3.1 Handle missing values (example: fill with mean or drop)\n",
    "customer_df_analitic = customer_df_analitic.dropna()  # Drop rows with missing values (or use df.fillna() for imputation)\n",
    "\n",
    "# 3.2 Standardize column names\n",
    "customer_df_analitic.columns = customer_df_analitic.columns.str.lower().str.replace(' ', '_')\n",
    "\n",
    "# 3.3 Correct data types (example: converting dates, numerical types)\n",
    "# If there's a date column, convert it\n",
    "# df['date_column'] = pd.to_datetime(df['date_column'])\n",
    "\n",
    "# 3.4 Remove duplicates\n",
    "customer_df_analitic = customer_df_analitic.drop_duplicates()"
   ]
  },
  {
   "cell_type": "code",
   "execution_count": 17,
   "id": "cdff3012",
   "metadata": {},
   "outputs": [],
   "source": [
    "# Step 4: Data Structuring\n",
    "# Example of Feature Engineering: \n",
    "# Let's say you want to create a new column 'customer_age_group' based on 'customer_age'\n",
    "# df['customer_age_group'] = pd.cut(df['customer_age'], bins=[0, 18, 35, 50, 65, 100], labels=['0-18', '19-35', '36-50', '51-65', '66+'])\n",
    "\n",
    "# Step 5: Preliminary Analysis\n",
    "# Example: Get the distribution of 'customer_age_group'\n",
    "# df['customer_age_group'].value_counts().plot(kind='bar')\n",
    "\n",
    "# Step 6: Save the cleaned data\n",
    "customer_df_analitic.to_csv('cleaned_marketing_customer_analysis.csv', index=False)"
   ]
  },
  {
   "cell_type": "markdown",
   "id": "df35fd0d-513e-4e77-867e-429da10a9cc7",
   "metadata": {
    "id": "df35fd0d-513e-4e77-867e-429da10a9cc7"
   },
   "source": [
    "1. You work at the marketing department and you want to know which sales channel brought the most sales in terms of total revenue. Using pivot, create a summary table showing the total revenue for each sales channel (branch, call center, web, and mail).\n",
    "Round the total revenue to 2 decimal points.  Analyze the resulting table to draw insights."
   ]
  },
  {
   "cell_type": "code",
   "execution_count": 19,
   "id": "a6ad9a71",
   "metadata": {},
   "outputs": [
    {
     "name": "stdout",
     "output_type": "stream",
     "text": [
      "The required columns 'sales_channel' and 'total_revenue' are not present in the dataset.\n"
     ]
    }
   ],
   "source": [
    "# Step 2: Ensure necessary columns are present\n",
    "# Assuming the dataset has columns 'sales_channel' and 'total_revenue'\n",
    "if 'sales_channel' in customer_df_analitic.columns and 'total_revenue' in customer_df_analitic.columns:\n",
    "    \n",
    "    # Step 3: Create the pivot table to summarize total revenue by sales channel\n",
    "    pivot_table = customer_df_analitic.pivot_table(values='total_revenue', index='sales_channel', aggfunc='sum')\n",
    "    \n",
    "    # Step 4: Round the total revenue to 2 decimal places\n",
    "    pivot_table = pivot_table.round(2)\n",
    "    \n",
    "    # Step 5: Analyze the results\n",
    "    print(pivot_table.sort_values(by='total_revenue', ascending=False))\n",
    "\n",
    "else:\n",
    "    print(\"The required columns 'sales_channel' and 'total_revenue' are not present in the dataset.\")"
   ]
  },
  {
   "cell_type": "markdown",
   "id": "640993b2-a291-436c-a34d-a551144f8196",
   "metadata": {
    "id": "640993b2-a291-436c-a34d-a551144f8196"
   },
   "source": [
    "2. Create a pivot table that shows the average customer lifetime value per gender and education level. Analyze the resulting table to draw insights."
   ]
  },
  {
   "cell_type": "code",
   "execution_count": 20,
   "id": "ac0e9fde",
   "metadata": {},
   "outputs": [
    {
     "name": "stdout",
     "output_type": "stream",
     "text": [
      "education  Bachelor  College   Doctor  High School or Below   Master\n",
      "gender                                                              \n",
      "F           7874.27  7748.82  7328.51               8675.22  8157.05\n",
      "M           7703.60  8052.46  7415.33               8149.69  8168.83\n"
     ]
    }
   ],
   "source": [
    "# Step 2: Ensure necessary columns are present\n",
    "if 'gender' in customer_df_analitic.columns and 'education' in customer_df_analitic.columns and 'customer_lifetime_value' in customer_df_analitic.columns:\n",
    "    \n",
    "    # Step 3: Create the pivot table for average customer lifetime value by gender and education level\n",
    "    pivot_table = customer_df_analitic.pivot_table(\n",
    "        values='customer_lifetime_value',\n",
    "        index='gender',\n",
    "        columns='education',\n",
    "        aggfunc='mean'\n",
    "    )\n",
    "    \n",
    "    # Round the values to 2 decimal places for better readability\n",
    "    pivot_table = pivot_table.round(2)\n",
    "    \n",
    "    # Step 4: Analyze the results\n",
    "    print(pivot_table)\n",
    "\n",
    "else:\n",
    "    print(\"The required columns 'gender', 'education', and 'customer_lifetime_value' are not present in the dataset.\")"
   ]
  },
  {
   "cell_type": "markdown",
   "id": "32c7f2e5-3d90-43e5-be33-9781b6069198",
   "metadata": {
    "id": "32c7f2e5-3d90-43e5-be33-9781b6069198"
   },
   "source": [
    "## Bonus\n",
    "\n",
    "You work at the customer service department and you want to know which months had the highest number of complaints by policy type category. Create a summary table showing the number of complaints by policy type and month.\n",
    "Show it in a long format table."
   ]
  },
  {
   "cell_type": "markdown",
   "id": "e3d09a8f-953c-448a-a5f8-2e5a8cca7291",
   "metadata": {
    "id": "e3d09a8f-953c-448a-a5f8-2e5a8cca7291"
   },
   "source": [
    "*In data analysis, a long format table is a way of structuring data in which each observation or measurement is stored in a separate row of the table. The key characteristic of a long format table is that each column represents a single variable, and each row represents a single observation of that variable.*\n",
    "\n",
    "*More information about long and wide format tables here: https://www.statology.org/long-vs-wide-data/*"
   ]
  },
  {
   "cell_type": "code",
   "execution_count": 22,
   "id": "3a069e0b-b400-470e-904d-d17582191be4",
   "metadata": {
    "id": "3a069e0b-b400-470e-904d-d17582191be4"
   },
   "outputs": [
    {
     "name": "stdout",
     "output_type": "stream",
     "text": [
      "   coverage     month  number_of_complaints\n",
      "0     Basic  February                  3112\n",
      "1     Basic   January                  3548\n",
      "2  Extended  February                  1522\n",
      "3  Extended   January                  1743\n",
      "4   Premium  February                   458\n",
      "5   Premium   January                   527\n"
     ]
    }
   ],
   "source": [
    "import pandas as pd\n",
    "\n",
    "# Step 1: Load the dataset\n",
    "url = 'https://raw.githubusercontent.com/data-bootcamp-v4/data/main/marketing_customer_analysis_clean.csv'\n",
    "df = pd.read_csv(url)\n",
    "\n",
    "# Step 2: Identify potential substitute columns\n",
    "# Assuming 'effective_to_date' as a substitute for 'complaint_date'\n",
    "# Assuming 'coverage' as a substitute for 'policy_type'\n",
    "\n",
    "if 'effective_to_date' in df.columns and 'coverage' in df.columns:\n",
    "    \n",
    "    # Step 3: Extract month from 'effective_to_date'\n",
    "    df['effective_to_date'] = pd.to_datetime(df['effective_to_date'])\n",
    "    df['month'] = df['effective_to_date'].dt.month_name()  # Extract month name\n",
    "    \n",
    "    # Step 4: Create the summary table\n",
    "    summary_table = df.groupby(['coverage', 'month']).size().reset_index(name='number_of_complaints')\n",
    "    \n",
    "    # Step 5: Ensure the table is in long format\n",
    "    # It's already in long format because we used groupby with reset_index\n",
    "    \n",
    "    # Show the result\n",
    "    print(summary_table)\n",
    "\n",
    "else:\n",
    "    print(\"The required columns 'effective_to_date' and 'coverage' are not present in the dataset.\")\n"
   ]
  }
 ],
 "metadata": {
  "colab": {
   "provenance": []
  },
  "kernelspec": {
   "display_name": "Python 3 (ipykernel)",
   "language": "python",
   "name": "python3"
  },
  "language_info": {
   "codemirror_mode": {
    "name": "ipython",
    "version": 3
   },
   "file_extension": ".py",
   "mimetype": "text/x-python",
   "name": "python",
   "nbconvert_exporter": "python",
   "pygments_lexer": "ipython3",
   "version": "3.11.7"
  }
 },
 "nbformat": 4,
 "nbformat_minor": 5
}
